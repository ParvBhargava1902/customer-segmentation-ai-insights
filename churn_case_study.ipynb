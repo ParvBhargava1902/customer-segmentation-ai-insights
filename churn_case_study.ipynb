{
 "cells": [
  {
   "cell_type": "markdown",
   "id": "dcc699b2",
   "metadata": {},
   "source": [
    "\n",
    "# Customer Segmentation & AI Insights — Churn Analysis (Notebook)\n",
    "\n",
    "This notebook is a **self-contained** case study that:\n",
    "- generates **synthetic customer + VoC** data,\n",
    "- performs quick **EDA** with charts,\n",
    "- trains a **logistic regression** churn model with a preprocessing pipeline,\n",
    "- exports **Tableau-ready** churn scores,\n",
    "- runs simple **segmentation** with K-Means,\n",
    "- (optional) adds **SHAP** explanations if available.\n",
    "\n",
    "> Run cells top-to-bottom. Artifacts are saved under `data/`, `out/`, `models/`, and `reports/`.\n"
   ]
  },
  {
   "cell_type": "markdown",
   "id": "72d95881",
   "metadata": {},
   "source": [
    "## Setup"
   ]
  },
  {
   "cell_type": "code",
   "execution_count": null,
   "id": "565b5dab",
   "metadata": {},
   "outputs": [],
   "source": [
    "\n",
    "%matplotlib inline\n",
    "\n",
    "from pathlib import Path\n",
    "import numpy as np\n",
    "import pandas as pd\n",
    "import matplotlib.pyplot as plt\n",
    "\n",
    "from sklearn.compose import ColumnTransformer\n",
    "from sklearn.preprocessing import StandardScaler, OneHotEncoder\n",
    "from sklearn.pipeline import Pipeline\n",
    "from sklearn.linear_model import LogisticRegression\n",
    "from sklearn.cluster import KMeans\n",
    "from sklearn.metrics import roc_auc_score, roc_curve, classification_report, confusion_matrix\n",
    "import joblib\n",
    "\n",
    "# Optional: SHAP for explainability (skip if not installed)\n",
    "try:\n",
    "    import shap\n",
    "    HAS_SHAP = True\n",
    "except Exception:\n",
    "    HAS_SHAP = False\n",
    "\n",
    "SEED = 42\n",
    "np.random.seed(SEED)\n",
    "\n",
    "for d in [\"data\", \"out\", \"models\", \"reports\"]:\n",
    "    Path(d).mkdir(parents=True, exist_ok=True)\n",
    "\n",
    "def save_fig(path):\n",
    "    Path(path).parent.mkdir(parents=True, exist_ok=True)\n",
    "    plt.tight_layout()\n",
    "    plt.savefig(path, dpi=144)\n",
    "    plt.show()\n"
   ]
  },
  {
   "cell_type": "markdown",
   "id": "cd755644",
   "metadata": {},
   "source": [
    "## 1) Generate Synthetic Data"
   ]
  },
  {
   "cell_type": "code",
   "execution_count": null,
   "id": "119ba66d",
   "metadata": {},
   "outputs": [],
   "source": [
    "\n",
    "from numpy.random import default_rng\n",
    "rng = default_rng(SEED)\n",
    "\n",
    "N = 5000\n",
    "df = pd.DataFrame({\n",
    "    \"customer_id\": np.arange(1, N+1),\n",
    "    \"tenure_days\": rng.integers(10, 1825, size=N),\n",
    "    \"last_nps\": rng.integers(-100, 101, size=N),\n",
    "    \"tickets_30d\": rng.poisson(lam=0.6, size=N),\n",
    "    \"usage_delta\": rng.normal(0.0, 1.0, size=N),\n",
    "    \"sentiment_score\": np.clip(rng.normal(0.1, 0.6, size=N), -1, 1),\n",
    "    \"plan\": rng.choice([\"Basic\",\"Plus\",\"Pro\"], size=N, p=[0.45,0.35,0.20]),\n",
    "    \"region\": rng.choice([\"ON\",\"BC\",\"AB\",\"QC\",\"MB\",\"SK\",\"NS\",\"NB\",\"NL\",\"PE\"], size=N),\n",
    "    \"billing_change_30d\": rng.choice([0,1], size=N, p=[0.8,0.2]),\n",
    "})\n",
    "\n",
    "logit = (\n",
    "    -2.0\n",
    "    + 0.0006 * (365 - df[\"tenure_days\"])\n",
    "    + 0.025 * df[\"tickets_30d\"]\n",
    "    - 0.015 * df[\"last_nps\"]\n",
    "    - 0.20 * df[\"sentiment_score\"]\n",
    "    + 0.35 * df[\"billing_change_30d\"]\n",
    "    + np.where(df[\"plan\"].eq(\"Basic\"), 0.25, 0.0)\n",
    "    + np.where(df[\"plan\"].eq(\"Pro\"), -0.2, 0.0)\n",
    ")\n",
    "proba = 1 / (1 + np.exp(-logit))\n",
    "df[\"churned_next_60d\"] = (rng.random(N) < proba).astype(int)\n",
    "\n",
    "themes = np.array([\"billing issue\",\"poor app performance\",\"network outage\",\"great support\",\"pricing concern\"])\n",
    "df[\"voc_theme\"] = themes[rng.integers(0, len(themes), N)]\n",
    "\n",
    "df.to_csv(\"data/synthetic_customers.csv\", index=False)\n",
    "df.head()\n"
   ]
  },
  {
   "cell_type": "markdown",
   "id": "29a3e836",
   "metadata": {},
   "source": [
    "## 2) Quick EDA"
   ]
  },
  {
   "cell_type": "code",
   "execution_count": null,
   "id": "3ae714f8",
   "metadata": {},
   "outputs": [],
   "source": [
    "\n",
    "print(\"Churn rate:\", df[\"churned_next_60d\"].mean().round(3))\n",
    "\n",
    "for col in [\"tenure_days\",\"last_nps\",\"tickets_30d\",\"usage_delta\",\"sentiment_score\"]:\n",
    "    plt.figure()\n",
    "    plt.hist(df[col], bins=40)\n",
    "    plt.title(f\"Distribution: {col}\")\n",
    "    plt.xlabel(col); plt.ylabel(\"count\")\n",
    "    save_fig(f\"reports/dist_{col}.png\")\n",
    "\n",
    "plt.figure()\n",
    "(df.groupby(\"plan\")[\"churned_next_60d\"].mean()\n",
    "   .reindex([\"Basic\",\"Plus\",\"Pro\"])\n",
    "   .plot(kind=\"bar\"))\n",
    "plt.title(\"Churn rate by plan\"); plt.ylabel(\"rate\")\n",
    "save_fig(\"reports/churn_by_plan.png\")\n",
    "\n",
    "plt.figure()\n",
    "(df.groupby(\"billing_change_30d\")[\"churned_next_60d\"].mean()\n",
    "   .rename({0:\"No recent change\", 1:\"Recent change\"})\n",
    "   .plot(kind=\"bar\"))\n",
    "plt.title(\"Churn rate by recent billing change\"); plt.ylabel(\"rate\")\n",
    "save_fig(\"reports/churn_by_billing_change.png\")\n"
   ]
  },
  {
   "cell_type": "markdown",
   "id": "e69c11de",
   "metadata": {},
   "source": [
    "## 3) Train Logistic Regression Churn Model"
   ]
  },
  {
   "cell_type": "code",
   "execution_count": null,
   "id": "c8075f87",
   "metadata": {},
   "outputs": [],
   "source": [
    "\n",
    "features = [\"tenure_days\",\"last_nps\",\"tickets_30d\",\"usage_delta\",\"sentiment_score\",\"plan\",\"region\",\"billing_change_30d\"]\n",
    "target = \"churned_next_60d\"\n",
    "X = df[features]\n",
    "y = df[target]\n",
    "\n",
    "num_cols = [\"tenure_days\",\"last_nps\",\"tickets_30d\",\"usage_delta\",\"sentiment_score\"]\n",
    "cat_cols = [\"plan\",\"region\",\"billing_change_30d\"]\n",
    "\n",
    "pre = ColumnTransformer([\n",
    "    (\"num\", StandardScaler(), num_cols),\n",
    "    (\"cat\", OneHotEncoder(handle_unknown=\"ignore\"), cat_cols),\n",
    "])\n",
    "clf = LogisticRegression(max_iter=300, class_weight=\"balanced\")\n",
    "pipe = Pipeline([(\"pre\", pre), (\"clf\", clf)])\n",
    "pipe.fit(X, y)\n",
    "\n",
    "pred_proba = pipe.predict_proba(X)[:,1]\n",
    "y_pred = (pred_proba > 0.5).astype(int)\n",
    "auc = roc_auc_score(y, pred_proba)\n",
    "print(\"AUC:\", round(auc, 3))\n",
    "print(classification_report(y, y_pred, digits=3))\n",
    "\n",
    "joblib.dump(pipe, \"models/churn_logit_pipeline.joblib\")\n"
   ]
  },
  {
   "cell_type": "markdown",
   "id": "009f2e2d",
   "metadata": {},
   "source": [
    "### ROC Curve & Confusion Matrix"
   ]
  },
  {
   "cell_type": "code",
   "execution_count": null,
   "id": "e4070d25",
   "metadata": {},
   "outputs": [],
   "source": [
    "\n",
    "fpr, tpr, _ = roc_curve(y, pred_proba)\n",
    "plt.figure()\n",
    "plt.plot(fpr, tpr, label=f\"LogReg (AUC={auc:.3f})\")\n",
    "plt.plot([0,1],[0,1],'--')\n",
    "plt.xlabel(\"False Positive Rate\"); plt.ylabel(\"True Positive Rate\"); plt.legend()\n",
    "plt.title(\"ROC Curve\")\n",
    "save_fig(\"reports/roc_curve.png\")\n",
    "\n",
    "cm = confusion_matrix(y, y_pred)\n",
    "plt.figure()\n",
    "plt.imshow(cm, cmap=\"Blues\")\n",
    "plt.title(\"Confusion Matrix (0/1)\")\n",
    "for (i, j), v in np.ndenumerate(cm):\n",
    "    plt.text(j, i, str(v), ha=\"center\", va=\"center\")\n",
    "plt.xlabel(\"Predicted\"); plt.ylabel(\"Actual\")\n",
    "save_fig(\"reports/confusion_matrix.png\")\n"
   ]
  },
  {
   "cell_type": "markdown",
   "id": "ec7b41f1",
   "metadata": {},
   "source": [
    "## 4) (Optional) SHAP Explainability"
   ]
  },
  {
   "cell_type": "code",
   "execution_count": null,
   "id": "4d4accdf",
   "metadata": {},
   "outputs": [],
   "source": [
    "\n",
    "if HAS_SHAP:\n",
    "    # Use a small sample to keep runtime snappy\n",
    "    sample = X.sample(n=min(800, len(X)), random_state=SEED)\n",
    "    f = lambda x: pipe.predict_proba(pd.DataFrame(x, columns=X.columns))[:,1]\n",
    "    explainer = shap.KernelExplainer(f, shap.sample(sample, 200, random_state=SEED))\n",
    "    shap_values = explainer.shap_values(shap.sample(sample, 200, random_state=SEED+1))\n",
    "\n",
    "    shap.summary_plot(shap_values, shap.sample(sample, 200, random_state=SEED+1),\n",
    "                      feature_names=X.columns, show=True)\n",
    "else:\n",
    "    print(\"SHAP not installed; skipping (pip install shap).\")\n"
   ]
  },
  {
   "cell_type": "markdown",
   "id": "b6cfa981",
   "metadata": {},
   "source": [
    "## 5) Segmentation (K-Means)"
   ]
  },
  {
   "cell_type": "code",
   "execution_count": null,
   "id": "e7cd2842",
   "metadata": {},
   "outputs": [],
   "source": [
    "\n",
    "seg_features = [\"tenure_days\",\"tickets_30d\",\"usage_delta\",\"sentiment_score\",\"last_nps\"]\n",
    "Z = (df[seg_features] - df[seg_features].mean()) / df[seg_features].std(ddof=0)\n",
    "km = KMeans(n_clusters=5, random_state=SEED, n_init=\"auto\")\n",
    "df[\"segment\"] = km.fit_predict(Z)\n",
    "\n",
    "profiles = df.groupby(\"segment\")[seg_features + [\"churned_next_60d\"]].agg([\"mean\",\"median\"])\n",
    "profiles.columns = [f\"{a}_{b}\" for a,b in profiles.columns]\n",
    "profiles.reset_index(inplace=True)\n",
    "profiles.to_csv(\"out/segment_profiles.csv\", index=False)\n",
    "profiles.head()\n"
   ]
  },
  {
   "cell_type": "code",
   "execution_count": null,
   "id": "0c5d273a",
   "metadata": {},
   "outputs": [],
   "source": [
    "\n",
    "plt.figure()\n",
    "df[\"segment\"].value_counts().sort_index().plot(kind=\"bar\")\n",
    "plt.title(\"Segment sizes\"); plt.xlabel(\"segment\"); plt.ylabel(\"count\")\n",
    "save_fig(\"reports/segment_sizes.png\")\n",
    "\n",
    "plt.figure()\n",
    "(df.groupby(\"segment\")[\"churned_next_60d\"].mean().plot(kind=\"bar\"))\n",
    "plt.title(\"Churn rate by segment\"); plt.xlabel(\"segment\"); plt.ylabel(\"rate\")\n",
    "save_fig(\"reports/churn_by_segment.png\")\n"
   ]
  },
  {
   "cell_type": "markdown",
   "id": "b66eee2a",
   "metadata": {},
   "source": [
    "## 6) Export Tableau-ready Scores"
   ]
  },
  {
   "cell_type": "code",
   "execution_count": null,
   "id": "727b9c95",
   "metadata": {},
   "outputs": [],
   "source": [
    "\n",
    "export = df[[\"customer_id\",\"plan\",\"region\"]].copy()\n",
    "export[\"churn_prob\"] = pred_proba\n",
    "export.to_csv(\"out/churn_scores.csv\", index=False)\n",
    "\n",
    "enriched = df[[\"customer_id\",\"plan\",\"region\",\"segment\",\"churned_next_60d\"]].copy()\n",
    "enriched[\"churn_prob\"] = pred_proba\n",
    "enriched.to_csv(\"out/customer_scored_segments.csv\", index=False)\n",
    "\n",
    "print(\"Saved:\", \"out/churn_scores.csv\", \"and\", \"out/customer_scored_segments.csv\")\n"
   ]
  }
 ],
 "metadata": {},
 "nbformat": 4,
 "nbformat_minor": 5
}
